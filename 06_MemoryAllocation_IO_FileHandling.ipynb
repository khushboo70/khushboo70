{
  "nbformat": 4,
  "nbformat_minor": 0,
  "metadata": {
    "colab": {
      "provenance": [],
      "toc_visible": true,
      "include_colab_link": true
    },
    "kernelspec": {
      "name": "python3",
      "display_name": "Python 3"
    },
    "language_info": {
      "name": "python"
    }
  },
  "cells": [
    {
      "cell_type": "markdown",
      "metadata": {
        "id": "view-in-github",
        "colab_type": "text"
      },
      "source": [
        "<a href=\"https://colab.research.google.com/github/khushboo70/khushboo70_Python_Basics/blob/main/06_MemoryAllocation_IO_FileHandling.ipynb\" target=\"_parent\"><img src=\"https://colab.research.google.com/assets/colab-badge.svg\" alt=\"Open In Colab\"/></a>"
      ]
    },
    {
      "cell_type": "markdown",
      "source": [
        "# Memory Allocation, I/O File Handling, and Improved Code Structure"
      ],
      "metadata": {
        "id": "naUgbbZP0FP-"
      }
    },
    {
      "cell_type": "markdown",
      "source": [
        "### Memory Allocation\n",
        "\n",
        "**Explanation:** Memory allocation in Python refers to how Python manages and allocates memory for objects and data structures during program execution. Python handles memory automatically, which means you don't need to explicitly allocate or deallocate memory like in some other programming languages. Python's memory management system includes features like reference counting and a garbage collector to efficiently manage memory usage."
      ],
      "metadata": {
        "id": "qkeaOi5VCs81"
      }
    },
    {
      "cell_type": "markdown",
      "source": [
        "### Using the `with` Statement for Automatic Resource Management\n",
        "\n",
        "**Explanation:** The `with` statement is used for automatic resource management, ensuring that resources like files are properly opened and closed. It eliminates the need for explicitly closing files using `file.close()`. When the `with` block is exited, the file is automatically closed."
      ],
      "metadata": {
        "id": "oL2DsVsKMkiD"
      }
    },
    {
      "cell_type": "markdown",
      "source": [
        "### Reading and Writing Files in Python\n",
        "\n",
        "**Explanation:** Python provides built-in functions to read and write files. File handling is crucial for tasks like data storage, configuration management, and data processing. Python's `open()` function is used to work with files, and it supports various modes for reading and writing, such as 'r' (read), 'w' (write), 'a' (append), 'rb' (read binary), and 'wb' (write binary)."
      ],
      "metadata": {
        "id": "iK8w0f-_FeE7"
      }
    },
    {
      "cell_type": "markdown",
      "source": [
        "**Writing to a Text File**"
      ],
      "metadata": {
        "id": "wwI1lgc3MAqS"
      }
    },
    {
      "cell_type": "code",
      "source": [
        "# Opening a text file for writing\n",
        "with open(\"output.txt\", \"w\") as file:\n",
        "    file.write(\"Hello, Python!\")"
      ],
      "metadata": {
        "id": "0wzpJlG0L68o"
      },
      "execution_count": null,
      "outputs": []
    },
    {
      "cell_type": "markdown",
      "source": [
        "**Reading a Text File**"
      ],
      "metadata": {
        "id": "z5wdxJSQMBzb"
      }
    },
    {
      "cell_type": "code",
      "source": [
        "# Opening a text file for reading\n",
        "with open(\"output.txt\", \"r\") as file:\n",
        "    content = file.read()\n",
        "    print(content)"
      ],
      "metadata": {
        "id": "dwlU-I3d0baO",
        "colab": {
          "base_uri": "https://localhost:8080/"
        },
        "outputId": "e2ed77d3-390f-4065-c35b-ecd3fabcc0fe"
      },
      "execution_count": null,
      "outputs": [
        {
          "output_type": "stream",
          "name": "stdout",
          "text": [
            "Hello, Python!\n"
          ]
        }
      ]
    },
    {
      "cell_type": "markdown",
      "source": [
        "### Opening Files in Different Modes: Text and Binary\n",
        "\n",
        "**Explanation:** When working with files, you can choose between text mode and binary mode. Text mode is used for working with text files, and it performs encoding and decoding automatically. Binary mode is used for non-text files like images and binary data, and it does not perform any encoding or decoding."
      ],
      "metadata": {
        "id": "JWawsZnkMIy0"
      }
    },
    {
      "cell_type": "markdown",
      "source": [
        "*Need a binary file here*"
      ],
      "metadata": {
        "id": "2t2IvBpzMLzC"
      }
    },
    {
      "cell_type": "code",
      "source": [
        "# Opening a binary file for reading\n",
        "with open(\"binary_file.bin\", \"rb\") as file:\n",
        "    binary_data = file.read()\n",
        "    print(binary_data)"
      ],
      "metadata": {
        "id": "Jr2hXMSEMJqj"
      },
      "execution_count": null,
      "outputs": []
    },
    {
      "cell_type": "markdown",
      "source": [
        "### Handling CSV and JSON Files for Data Manipulation\n",
        "\n",
        "**Explanation:** Python provides libraries for handling common data formats like CSV (Comma-Separated Values) and JSON (JavaScript Object Notation). CSV files are used for tabular data, while JSON is a lightweight data interchange format. You can read, write, and manipulate data in these formats using Python's built-in modules.\n",
        "\n",
        "Include prettier / prettify to structure the outputs"
      ],
      "metadata": {
        "id": "xdeS7coZ2Zn2"
      }
    },
    {
      "cell_type": "markdown",
      "source": [
        "**CSV Files**"
      ],
      "metadata": {
        "id": "S6MgeEvoMpi8"
      }
    },
    {
      "cell_type": "code",
      "source": [
        "import csv\n",
        "# Writing to a CSV file\n",
        "data = [[\"Name\", \"Age\"], [\"Alice\", 25], [\"Bob\", 30]]\n",
        "with open(\"output.csv\", \"w\", newline=\"\") as csvfile:\n",
        "    csv_writer = csv.writer(csvfile)\n",
        "    csv_writer.writerows(data)"
      ],
      "metadata": {
        "id": "_moJPtQ72bex"
      },
      "execution_count": null,
      "outputs": []
    },
    {
      "cell_type": "code",
      "source": [
        "# Reading a CSV file\n",
        "with open(\"output.csv\", \"r\") as csvfile:\n",
        "    csv_reader = csv.reader(csvfile)\n",
        "    for row in csv_reader:\n",
        "        print(row)"
      ],
      "metadata": {
        "colab": {
          "base_uri": "https://localhost:8080/"
        },
        "id": "TbCXb91hMxC3",
        "outputId": "c2860024-edfe-45ac-cdb2-0f787a0cdcc5"
      },
      "execution_count": null,
      "outputs": [
        {
          "output_type": "stream",
          "name": "stdout",
          "text": [
            "['Name', 'Age']\n",
            "['Alice', '25']\n",
            "['Bob', '30']\n"
          ]
        }
      ]
    },
    {
      "cell_type": "markdown",
      "source": [
        "**JSON Files**"
      ],
      "metadata": {
        "id": "Rvp2AqaxM5hx"
      }
    },
    {
      "cell_type": "code",
      "source": [
        "import json\n",
        "# Writing to a JSON file\n",
        "data = {\"name\": \"Alice\", \"age\": 25}\n",
        "with open(\"output.json\", \"w\") as jsonfile:\n",
        "    json.dump(data, jsonfile)"
      ],
      "metadata": {
        "id": "tinwbJJ-M8EB"
      },
      "execution_count": null,
      "outputs": []
    },
    {
      "cell_type": "code",
      "source": [
        "# Reading a JSON file\n",
        "with open(\"output.json\", \"r\") as jsonfile:\n",
        "    data = json.load(jsonfile)\n",
        "    print(data)"
      ],
      "metadata": {
        "colab": {
          "base_uri": "https://localhost:8080/"
        },
        "id": "bDHjdtXpM-wc",
        "outputId": "c78a3029-80ce-44ec-cee5-904203733a34"
      },
      "execution_count": null,
      "outputs": [
        {
          "output_type": "stream",
          "name": "stdout",
          "text": [
            "{'name': 'Alice', 'age': 25}\n"
          ]
        }
      ]
    },
    {
      "cell_type": "markdown",
      "source": [
        "### List Comprehensions for Concise List Creation\n",
        "\n",
        "**Explanation:** List comprehensions are a concise way to create lists in Python. They allow you to generate lists by applying an expression to each item in an iterable (e.g., a list, tuple, or range) and optionally applying a condition to filter items. List comprehensions are both readable and efficient."
      ],
      "metadata": {
        "id": "RqMLOlvQ2eai"
      }
    },
    {
      "cell_type": "code",
      "source": [
        "#Vanilla function\n",
        "even_nums=[]\n",
        "for x in range(10):\n",
        "  if x%2==0:\n",
        "    even_nums.append(x**2)\n",
        "print(even_nums)"
      ],
      "metadata": {
        "colab": {
          "base_uri": "https://localhost:8080/"
        },
        "id": "qaw6UnmNNO0P",
        "outputId": "ac8e0d26-b98d-4ae4-a7cd-f9462f13707b"
      },
      "execution_count": null,
      "outputs": [
        {
          "output_type": "stream",
          "name": "stdout",
          "text": [
            "[0, 4, 16, 36, 64]\n"
          ]
        }
      ]
    },
    {
      "cell_type": "code",
      "source": [
        "# Creating a list of squares of even numbers\n",
        "even_numbers = [x**2 for x in range(10) if x % 2 == 0]\n",
        "print(even_numbers)  # Output: [0, 4, 16, 36, 64]"
      ],
      "metadata": {
        "id": "-nleKrak2X8p",
        "colab": {
          "base_uri": "https://localhost:8080/"
        },
        "outputId": "63cbeea7-75cf-47cb-ebe2-6695057300ec"
      },
      "execution_count": null,
      "outputs": [
        {
          "output_type": "stream",
          "name": "stdout",
          "text": [
            "[0, 4, 16, 36, 64]\n"
          ]
        }
      ]
    },
    {
      "cell_type": "markdown",
      "source": [
        "### Understanding and Using Pickle\n",
        "\n",
        "**Explanation:**\n",
        "Pickle is a Python module used for serializing and deserializing Python objects. Serialization is the process of converting complex data structures (such as lists, dictionaries, or custom objects) into a format that can be stored in a file or transmitted over a network. Deserialization is the reverse process of recreating Python objects from the serialized data.\n",
        "\n",
        "**Key Points:**\n",
        "\n",
        "- **Serialization**: Pickle allows you to save Python objects to a file or stream, preserving their state and structure.\n",
        "- **Deserialization**: You can load and restore serialized objects, making them usable within your Python programs.\n",
        "- **Binary Format**: Pickle uses a binary format for serialization, which is efficient and compact.\n",
        "- **Usage**: Pickle is commonly used for saving and loading machine learning models, caching data, and more."
      ],
      "metadata": {
        "id": "FzwuwYSLNk8u"
      }
    },
    {
      "cell_type": "code",
      "source": [
        "import pickle\n",
        "\n",
        "data = {\"name\": \"Alice\", \"age\": 30}\n",
        "\n",
        "# Serialize and write to a binary file\n",
        "with open(\"data.pkl\", \"wb\") as file:\n",
        "    pickle.dump(data, file)"
      ],
      "metadata": {
        "id": "2ekVHOSuNput"
      },
      "execution_count": null,
      "outputs": []
    },
    {
      "cell_type": "code",
      "source": [
        "# Read and deserialize from a binary file\n",
        "with open(\"data.pkl\", \"rb\") as file:\n",
        "    loaded_data = pickle.load(file)\n",
        "    print(loaded_data)"
      ],
      "metadata": {
        "colab": {
          "base_uri": "https://localhost:8080/"
        },
        "id": "NBcY1u-rNrIh",
        "outputId": "6a86cb15-68a4-4952-f903-66c79f7345e1"
      },
      "execution_count": null,
      "outputs": [
        {
          "output_type": "stream",
          "name": "stdout",
          "text": [
            "{'name': 'Alice', 'age': 30}\n"
          ]
        }
      ]
    },
    {
      "cell_type": "markdown",
      "source": [
        "### PEP 8: Python Enhancement Proposal 8\n",
        "\n",
        "**Explanation:**\n",
        "PEP 8 is a style guide for writing clean, readable, and consistent Python code. It provides guidelines on naming conventions, code formatting, and best practices for structuring your code. Adhering to PEP 8 makes your code more accessible to other developers and enhances code maintainability.\n",
        "\n",
        "**Key PEP 8 Recommendations:**\n",
        "\n",
        "- Use spaces (4 spaces for indentation).\n",
        "- Limit line length to 79 characters for code and 72 characters for docstrings.\n",
        "- Use lowercase with underscores for variable and function names (e.g., **`my_variable`**, **`my_function`**).\n",
        "- Use CapWords (also known as CamelCase) for class names (e.g., **`MyClass`**).\n",
        "- Surround top-level function and class definitions with two blank lines.\n",
        "- Follow consistent naming conventions for constants (e.g., **`MAX_VALUE`**).\n",
        "- Use docstrings to document functions, classes, and modules."
      ],
      "metadata": {
        "id": "nHfMG9F-NwgD"
      }
    },
    {
      "cell_type": "code",
      "source": [
        "def calculate_area(length, width):\n",
        "    \"\"\"Calculate the area of a rectangle.\"\"\"\n",
        "    return length * width\n",
        "\n",
        "class Person:\n",
        "    \"\"\"A class representing a person.\"\"\"\n",
        "\n",
        "    def __init__(self, name):\n",
        "        self.name = name\n",
        "\n",
        "    def greet(self):\n",
        "        \"\"\"Print a greeting message.\"\"\"\n",
        "        print(f\"Hello, my name is {self.name}.\")"
      ],
      "metadata": {
        "id": "RObEYofSNx3j"
      },
      "execution_count": null,
      "outputs": []
    },
    {
      "cell_type": "markdown",
      "source": [
        "This notebook was created for the coursework of Introduction to Python for [Skillcept Online](https://skillcept.online)\n",
        "\n",
        "> Date Created: September 12, 2023\n",
        ">\n",
        "> Author: [Shivani Shimpi](https://github.com/shivanishimpi)\n",
        ">\n",
        "> Reach out: [GitHub](https://github.com/shivanishimpi) | [LinkedIn](https://www.linkedin.com/in/shivani-shimpi-5113a8170/)"
      ],
      "metadata": {
        "id": "Vax_WV2lEvuV"
      }
    }
  ]
}