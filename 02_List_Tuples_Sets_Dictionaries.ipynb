{
  "nbformat": 4,
  "nbformat_minor": 0,
  "metadata": {
    "colab": {
      "provenance": [],
      "toc_visible": true,
      "include_colab_link": true
    },
    "kernelspec": {
      "name": "python3",
      "display_name": "Python 3"
    },
    "language_info": {
      "name": "python"
    }
  },
  "cells": [
    {
      "cell_type": "markdown",
      "metadata": {
        "id": "view-in-github",
        "colab_type": "text"
      },
      "source": [
        "<a href=\"https://colab.research.google.com/github/khushboo70/khushboo70_Python_Basics/blob/main/02_List_Tuples_Sets_Dictionaries.ipynb\" target=\"_parent\"><img src=\"https://colab.research.google.com/assets/colab-badge.svg\" alt=\"Open In Colab\"/></a>"
      ]
    },
    {
      "cell_type": "markdown",
      "source": [
        "# List, Tuples, Sets, Dictionaries"
      ],
      "metadata": {
        "id": "naUgbbZP0FP-"
      }
    },
    {
      "cell_type": "markdown",
      "source": [
        "## Lists"
      ],
      "metadata": {
        "id": "qkeaOi5VCs81"
      }
    },
    {
      "cell_type": "markdown",
      "source": [
        "### Lists: Creating, Indexing, Slicing, and Modifying\n",
        "\n",
        "**Lists** are ordered collections of items in Python. They are versatile and commonly used for storing and manipulating data. In this lesson, we'll cover the basics of lists:"
      ],
      "metadata": {
        "id": "Ss-5SjWPCpeK"
      }
    },
    {
      "cell_type": "markdown",
      "source": [
        "**Creating Lists Using Square Brackets**"
      ],
      "metadata": {
        "id": "XchoAssCC04e"
      }
    },
    {
      "cell_type": "code",
      "source": [
        "# Creating lists using square brackets\n",
        "fruits = [\"apple\", \"banana\", \"cherry\"]\n",
        "numbers = [1, 2, 3, 4, 5]\n",
        "mixed_list = [1, \"apple\", True]"
      ],
      "metadata": {
        "id": "dwlU-I3d0baO"
      },
      "execution_count": null,
      "outputs": []
    },
    {
      "cell_type": "markdown",
      "source": [
        "**Indexing and Accessing Elements in a List**"
      ],
      "metadata": {
        "id": "xdeS7coZ2Zn2"
      }
    },
    {
      "cell_type": "code",
      "source": [
        "# Accessing elements in a list using indexing\n",
        "first_fruit = fruits[0]  # Access the first element\n",
        "second_fruit = fruits[1]  # Access the second element\n",
        "print(first_fruit)\n",
        "print(second_fruit)"
      ],
      "metadata": {
        "colab": {
          "base_uri": "https://localhost:8080/"
        },
        "id": "_moJPtQ72bex",
        "outputId": "311aa126-2f7a-4b25-e5b9-97996043f440"
      },
      "execution_count": null,
      "outputs": [
        {
          "output_type": "stream",
          "name": "stdout",
          "text": [
            "apple\n",
            "banana\n"
          ]
        }
      ]
    },
    {
      "cell_type": "markdown",
      "source": [
        "**Negative Indexing and Accessing Elements from the End**"
      ],
      "metadata": {
        "id": "RqMLOlvQ2eai"
      }
    },
    {
      "cell_type": "code",
      "source": [
        "# Negative indexing to access elements from the end\n",
        "last_fruit = fruits[-1]  # Access the last element\n",
        "second_last_fruit = fruits[-2]  # Access the second-to-last element\n",
        "print(last_fruit)\n",
        "print(second_last_fruit)"
      ],
      "metadata": {
        "colab": {
          "base_uri": "https://localhost:8080/"
        },
        "id": "-nleKrak2X8p",
        "outputId": "aa1ef76a-04f8-4e2f-8bea-a0fbe249a0ab"
      },
      "execution_count": null,
      "outputs": [
        {
          "output_type": "stream",
          "name": "stdout",
          "text": [
            "cherry\n",
            "banana\n"
          ]
        }
      ]
    },
    {
      "cell_type": "markdown",
      "source": [
        "**Slicing Involves Extracting a Portion of a List**"
      ],
      "metadata": {
        "id": "XABSmYT52iL6"
      }
    },
    {
      "cell_type": "code",
      "source": [
        "# Slicing a list using start:stop:step\n",
        "numbers = [1, 2, 3, 4, 5]\n",
        "subset = numbers[1:4]  # Extract elements at index 1, 2, and 3\n",
        "print(subset)"
      ],
      "metadata": {
        "id": "ZBdspD4y2jwy",
        "colab": {
          "base_uri": "https://localhost:8080/"
        },
        "outputId": "c86157a2-e082-44e1-fea2-557221c47828"
      },
      "execution_count": null,
      "outputs": [
        {
          "output_type": "stream",
          "name": "stdout",
          "text": [
            "[2, 3, 4]\n"
          ]
        }
      ]
    },
    {
      "cell_type": "markdown",
      "source": [
        "**Modifying Elements in a List**"
      ],
      "metadata": {
        "id": "SaPm-tuqDSRd"
      }
    },
    {
      "cell_type": "code",
      "source": [
        "# Modifying elements in a list\n",
        "fruits[1] = \"orange\"  # Update the second element\n",
        "fruits.append(\"kiwi\")  # Add an element to the end\n",
        "fruits.insert(0, \"grape\")  # Insert an element at a specific position\n",
        "fruits.remove(\"cherry\")  # Remove a specific element"
      ],
      "metadata": {
        "id": "1w35rgtbDSyP"
      },
      "execution_count": null,
      "outputs": []
    },
    {
      "cell_type": "markdown",
      "source": [
        "## Tuples"
      ],
      "metadata": {
        "id": "16xky26RDXxA"
      }
    },
    {
      "cell_type": "markdown",
      "source": [
        "### Tuples: Creation, Immutability, and Accessing Elements\n",
        "\n",
        "**Tuples** are similar to lists but with a key difference - they are immutable, meaning their elements cannot be changed after creation. In this lesson, we'll explore tuples:"
      ],
      "metadata": {
        "id": "MoFAcs30DaE6"
      }
    },
    {
      "cell_type": "markdown",
      "source": [
        "**Creating Tuples Using Parentheses**"
      ],
      "metadata": {
        "id": "94qpbEJkDb1Z"
      }
    },
    {
      "cell_type": "code",
      "source": [
        "# Creating tuples using parentheses\n",
        "coordinates = (3, 4)\n",
        "colors = (\"red\", \"green\", \"blue\")\n",
        "print(coordinates)\n",
        "print(colors)"
      ],
      "metadata": {
        "colab": {
          "base_uri": "https://localhost:8080/"
        },
        "id": "2-50fHdRDV_t",
        "outputId": "258f61a8-3ae5-43ad-e117-ee439c7b77fd"
      },
      "execution_count": null,
      "outputs": [
        {
          "output_type": "stream",
          "name": "stdout",
          "text": [
            "(3, 4)\n",
            "('red', 'green', 'blue')\n"
          ]
        }
      ]
    },
    {
      "cell_type": "markdown",
      "source": [
        "**Accessing Elements in a Tuple Using Indexing**"
      ],
      "metadata": {
        "id": "Av6mbUP2Dr6C"
      }
    },
    {
      "cell_type": "code",
      "source": [
        "# Accessing elements in a tuple using indexing\n",
        "x = coordinates[0]  # Access the first element\n",
        "color = colors[2]  # Access the third element"
      ],
      "metadata": {
        "id": "qLlZtADBDfVg"
      },
      "execution_count": null,
      "outputs": []
    },
    {
      "cell_type": "markdown",
      "source": [
        "**Tuples are Immutable**"
      ],
      "metadata": {
        "id": "mh5fi4x6DvaR"
      }
    },
    {
      "cell_type": "code",
      "source": [
        "# Attempting to modify a tuple (will result in an error)\n",
        "coordinates[0] = 5  # This operation is not allowed"
      ],
      "metadata": {
        "colab": {
          "base_uri": "https://localhost:8080/",
          "height": 197
        },
        "id": "tXdwTEn8Du_N",
        "outputId": "63342ab3-4b1f-4f07-c296-b29d62436a75"
      },
      "execution_count": null,
      "outputs": [
        {
          "output_type": "error",
          "ename": "TypeError",
          "evalue": "ignored",
          "traceback": [
            "\u001b[0;31m---------------------------------------------------------------------------\u001b[0m",
            "\u001b[0;31mTypeError\u001b[0m                                 Traceback (most recent call last)",
            "\u001b[0;32m<ipython-input-10-c4d14ce37600>\u001b[0m in \u001b[0;36m<cell line: 2>\u001b[0;34m()\u001b[0m\n\u001b[1;32m      1\u001b[0m \u001b[0;31m# Attempting to modify a tuple (will result in an error)\u001b[0m\u001b[0;34m\u001b[0m\u001b[0;34m\u001b[0m\u001b[0m\n\u001b[0;32m----> 2\u001b[0;31m \u001b[0mcoordinates\u001b[0m\u001b[0;34m[\u001b[0m\u001b[0;36m0\u001b[0m\u001b[0;34m]\u001b[0m \u001b[0;34m=\u001b[0m \u001b[0;36m5\u001b[0m  \u001b[0;31m# This operation is not allowed\u001b[0m\u001b[0;34m\u001b[0m\u001b[0;34m\u001b[0m\u001b[0m\n\u001b[0m",
            "\u001b[0;31mTypeError\u001b[0m: 'tuple' object does not support item assignment"
          ]
        }
      ]
    },
    {
      "cell_type": "markdown",
      "source": [
        "## Sets"
      ],
      "metadata": {
        "id": "11gqry9xDz2X"
      }
    },
    {
      "cell_type": "markdown",
      "source": [
        "### Sets: Creating, Adding, Removing Elements, Set Operations\n",
        "\n",
        "**Sets** are unordered collections of unique elements. They are useful for tasks involving unique data and set operations. In this lesson, we'll dive into sets:"
      ],
      "metadata": {
        "id": "JK3ZDFn2D0pZ"
      }
    },
    {
      "cell_type": "markdown",
      "source": [
        "**Creating Sets Using Curly Braces or `set()` Constructor**"
      ],
      "metadata": {
        "id": "QrZKqCv2D21_"
      }
    },
    {
      "cell_type": "code",
      "source": [
        "# Creating sets using curly braces or the set() constructor\n",
        "fruits_set = {\"apple\", \"banana\", \"cherry\"}\n",
        "numbers_set = set([1, 2, 3, 4, 5])"
      ],
      "metadata": {
        "id": "4JIjB39hDxoA"
      },
      "execution_count": null,
      "outputs": []
    },
    {
      "cell_type": "markdown",
      "source": [
        "**Adding and Removing Elements in a Set**"
      ],
      "metadata": {
        "id": "_y8lr_4dD7RU"
      }
    },
    {
      "cell_type": "code",
      "source": [
        "# Adding and removing elements in a set\n",
        "fruits_set.add(\"orange\")  # Add an element\n",
        "fruits_set.remove(\"cherry\")  # Remove an element (raises an error if not found)\n",
        "fruits_set.discard(\"kiwi\")  # Remove an element (no error if not found)"
      ],
      "metadata": {
        "id": "NSPUtAddD6JM"
      },
      "execution_count": null,
      "outputs": []
    },
    {
      "cell_type": "markdown",
      "source": [
        "**Set Operations: Union, Intersection, and Difference**"
      ],
      "metadata": {
        "id": "RfKhD0K3EAWW"
      }
    },
    {
      "cell_type": "code",
      "source": [
        "# Set operations\n",
        "set1 = {1, 2, 3}\n",
        "set2 = {3, 4, 5}\n",
        "union = set1.union(set2)  # Union of two sets\n",
        "intersection = set1.intersection(set2)  # Intersection of two sets\n",
        "difference = set1.difference(set2)  # Set difference (elements in set1 but not in set2)"
      ],
      "metadata": {
        "id": "YHExLq7sD9V7"
      },
      "execution_count": null,
      "outputs": []
    },
    {
      "cell_type": "markdown",
      "source": [
        "## Dictionaries"
      ],
      "metadata": {
        "id": "2DLlAtboEM6g"
      }
    },
    {
      "cell_type": "markdown",
      "source": [
        "### Dictionary Structure and Manipulation\n",
        "\n",
        "**Dictionaries** are collections of key-value pairs, making them suitable for associating data with unique identifiers. Let's explore dictionaries in this lesson:"
      ],
      "metadata": {
        "id": "iOP5rRr4ERI0"
      }
    },
    {
      "cell_type": "markdown",
      "source": [
        "**Creating Dictionaries Using Curly Braces**"
      ],
      "metadata": {
        "id": "sxyfZxcyESUE"
      }
    },
    {
      "cell_type": "code",
      "source": [
        "# Creating dictionaries using curly braces\n",
        "person = {\"name\": \"Alice\", \"age\": 30}\n",
        "student = {\"id\": 101, \"name\": \"Bob\", \"major\": \"Computer Science\"}"
      ],
      "metadata": {
        "id": "VbczJjOLD-7f"
      },
      "execution_count": null,
      "outputs": []
    },
    {
      "cell_type": "markdown",
      "source": [
        "**Accessing and Modifying Dictionary Elements**"
      ],
      "metadata": {
        "id": "pbKvA2RJEWE9"
      }
    },
    {
      "cell_type": "code",
      "source": [
        "# Accessing and modifying dictionary elements\n",
        "name = person[\"name\"]  # Accessing a value using a key\n",
        "person[\"age\"] = 31  # Modifying a value"
      ],
      "metadata": {
        "id": "vTJK5yDMEWfQ"
      },
      "execution_count": null,
      "outputs": []
    },
    {
      "cell_type": "markdown",
      "source": [
        "**Dictionary Methods for Manipulation: `keys()`, `values()`, etc**"
      ],
      "metadata": {
        "id": "zj5CgjHXEdvD"
      }
    },
    {
      "cell_type": "code",
      "source": [
        "# Dictionary methods\n",
        "keys = person.keys()  # Get a list of keys\n",
        "values = person.values()  # Get a list of values\n",
        "items = person.items()  # Get a list of key-value pairs"
      ],
      "metadata": {
        "id": "UMTn0UOSEXq5"
      },
      "execution_count": null,
      "outputs": []
    },
    {
      "cell_type": "markdown",
      "source": [
        "This notebook was created for the coursework of Introduction to Python for [Skillcept Online](https://skillcept.online)\n",
        "\n",
        "> Date Created: September 12, 2023\n",
        ">\n",
        "> Author: [Shivani Shimpi](https://github.com/shivanishimpi)\n",
        ">\n",
        "> Reach out: [GitHub](https://github.com/shivanishimpi) | [LinkedIn](https://www.linkedin.com/in/shivani-shimpi-5113a8170/)"
      ],
      "metadata": {
        "id": "Vax_WV2lEvuV"
      }
    }
  ]
}