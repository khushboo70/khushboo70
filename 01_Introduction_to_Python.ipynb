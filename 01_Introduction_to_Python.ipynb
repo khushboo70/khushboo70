{
  "nbformat": 4,
  "nbformat_minor": 0,
  "metadata": {
    "colab": {
      "provenance": [],
      "toc_visible": true,
      "include_colab_link": true
    },
    "kernelspec": {
      "name": "python3",
      "display_name": "Python 3"
    },
    "language_info": {
      "name": "python"
    }
  },
  "cells": [
    {
      "cell_type": "markdown",
      "metadata": {
        "id": "view-in-github",
        "colab_type": "text"
      },
      "source": [
        "<a href=\"https://colab.research.google.com/github/khushboo70/khushboo70_Python_Basics/blob/main/01_Introduction_to_Python.ipynb\" target=\"_parent\"><img src=\"https://colab.research.google.com/assets/colab-badge.svg\" alt=\"Open In Colab\"/></a>"
      ]
    },
    {
      "cell_type": "markdown",
      "source": [
        "# Introduction to Python"
      ],
      "metadata": {
        "id": "naUgbbZP0FP-"
      }
    },
    {
      "cell_type": "markdown",
      "source": [
        "#### Data Types and First Program\n",
        "\n",
        "Writing a \"Hello, World!\" program is a traditional way to begin learning a new programming language. It's a simple way to ensure that your programming environment is set up correctly and to get familiar with the basic syntax of the language."
      ],
      "metadata": {
        "id": "fVOVW-Ue-VWn"
      }
    },
    {
      "cell_type": "code",
      "execution_count": null,
      "metadata": {
        "colab": {
          "base_uri": "https://localhost:8080/"
        },
        "id": "CgkajdHL0B5N",
        "outputId": "8a7d4d16-9b9a-4f20-d270-a4a589c4339f"
      },
      "outputs": [
        {
          "output_type": "stream",
          "name": "stdout",
          "text": [
            "Hello, World!\n"
          ]
        }
      ],
      "source": [
        "print(\"Hello, World!\")"
      ]
    },
    {
      "cell_type": "markdown",
      "source": [
        "#### Declaring Variables and Assigning Values\n",
        "\n",
        "**Explanation:** Variables are used to store data in a program. You can assign values to variables using the assignment operator (`=`). Python is dynamically typed, so you don't need to declare the data type explicitly."
      ],
      "metadata": {
        "id": "Mc-x0l4w0Jra"
      }
    },
    {
      "cell_type": "code",
      "source": [
        "name = \"Alice\"\n",
        "age = 25\n",
        "height = 5.8\n",
        "is_student = True"
      ],
      "metadata": {
        "id": "QXuFHoPC0DA9"
      },
      "execution_count": null,
      "outputs": []
    },
    {
      "cell_type": "markdown",
      "source": [
        "#### Exploring Different Data Types: Integers, Floats, Strings, Booleans\n",
        "\n",
        "**Explanation:** Python supports various data types to represent different kinds of values. Common data types include integers (whole numbers), floats (decimal numbers), strings (text), and booleans (True or False values)."
      ],
      "metadata": {
        "id": "SFLXqqQz-kp0"
      }
    },
    {
      "cell_type": "code",
      "source": [
        "integer_variable = 42\n",
        "float_variable = 3.14\n",
        "string_variable = \"Hello, Python!\"\n",
        "boolean_variable = True"
      ],
      "metadata": {
        "id": "Ar7ggaXs0LRi"
      },
      "execution_count": null,
      "outputs": []
    },
    {
      "cell_type": "markdown",
      "source": [
        "#### Type Conversion and Its Importance\n",
        "\n",
        "**Explanation:** Type conversion allows you to convert one data type into another. It's important when you need to perform operations that involve different data types or when you want to format and display data in a specific way."
      ],
      "metadata": {
        "id": "1nLdakaK-pWK"
      }
    },
    {
      "cell_type": "code",
      "source": [
        "age = \"25\"\n",
        "age_integer = int(age)  # Convert the string to an integer\n",
        "height = 5.8\n",
        "height_string = str(height)  # Convert the float to a string"
      ],
      "metadata": {
        "id": "I8FX7gPh0T9f"
      },
      "execution_count": null,
      "outputs": []
    },
    {
      "cell_type": "markdown",
      "source": [
        "#### Understanding Arithmetic Operators: +, -, *, /, %\n",
        "\n",
        "**Explanation:** Arithmetic operators perform mathematical operations on numerical values. They include addition (`+`), subtraction (`-`), multiplication (`*`), division (`/`), and modulus (`%`), which gives the remainder of division."
      ],
      "metadata": {
        "id": "HEYFqmnx-6i1"
      }
    },
    {
      "cell_type": "code",
      "source": [
        "x = 10\n",
        "y = 3\n",
        "addition_result = x + y\n",
        "subtraction_result = x - y\n",
        "multiplication_result = x * y\n",
        "division_result = x / y\n",
        "modulus_result = x % y\n",
        "\n",
        "print(\n",
        "    addition_result,\n",
        "    subtraction_result,\n",
        "    multiplication_result,\n",
        "    division_result,\n",
        "    modulus_result\n",
        ")"
      ],
      "metadata": {
        "id": "xOWnQrMu0VWl",
        "colab": {
          "base_uri": "https://localhost:8080/"
        },
        "outputId": "ea0f0ef7-c640-43b8-e3c7-a6fe63dde47e"
      },
      "execution_count": null,
      "outputs": [
        {
          "output_type": "stream",
          "name": "stdout",
          "text": [
            "13 7 30 3.3333333333333335 1\n"
          ]
        }
      ]
    },
    {
      "cell_type": "markdown",
      "source": [
        "#### Using Comparison Operators: <, >, <=, >=, ==, !=\n",
        "\n",
        "**Explanation:** Comparison operators are used to compare values and return Boolean results (True or False). They include less than (`<`), greater than (`>`), less than or equal to (`<=`), greater than or equal to (`>=`), equal to (`==`), and not equal to (`!=`)."
      ],
      "metadata": {
        "id": "L-J-Ghva-_Wp"
      }
    },
    {
      "cell_type": "code",
      "source": [
        "a = 5\n",
        "b = 7\n",
        "less_than_result = a < b\n",
        "greater_than_result = a > b\n",
        "equal_to_result = a == b\n",
        "not_equal_to_result = a != b\n",
        "\n",
        "print(\n",
        "    less_than_result,\n",
        "    greater_than_result,\n",
        "    equal_to_result,\n",
        "    not_equal_to_result\n",
        ")"
      ],
      "metadata": {
        "id": "msoRAoMY0Yuc",
        "colab": {
          "base_uri": "https://localhost:8080/"
        },
        "outputId": "236537b8-41c1-45dd-af96-48e2c5d316af"
      },
      "execution_count": null,
      "outputs": [
        {
          "output_type": "stream",
          "name": "stdout",
          "text": [
            "True False False True\n"
          ]
        }
      ]
    },
    {
      "cell_type": "markdown",
      "source": [
        "#### Employing Logical Operators: and, or, not\n",
        "\n",
        "**Explanation:** Logical operators are used to combine or manipulate Boolean values. `and` returns True if both conditions are True. `or` returns True if at least one condition is True. `not` negates a Boolean value."
      ],
      "metadata": {
        "id": "VhXGAbwi_uZ5"
      }
    },
    {
      "cell_type": "code",
      "source": [
        "x = True\n",
        "y = False\n",
        "and_result = x and y\n",
        "or_result = x or y\n",
        "not_result = not x\n",
        "\n",
        "print(\n",
        "    and_result,\n",
        "    or_result,\n",
        "    not_result\n",
        ")"
      ],
      "metadata": {
        "id": "d4Z58t7G0aPU",
        "colab": {
          "base_uri": "https://localhost:8080/"
        },
        "outputId": "ed408a6d-de77-437c-bf81-951f81fbd739"
      },
      "execution_count": null,
      "outputs": [
        {
          "output_type": "stream",
          "name": "stdout",
          "text": [
            "False True False\n"
          ]
        }
      ]
    },
    {
      "cell_type": "markdown",
      "source": [
        "This notebook was created for the coursework of Introduction to Python for [Skillcept Online](https://skillcept.online)\n",
        "\n",
        "> Date Created: September 12, 2023\n",
        ">\n",
        "> Author: [Shivani Shimpi](https://github.com/shivanishimpi)\n",
        ">\n",
        "> Reach out: [GitHub](https://github.com/shivanishimpi) | [LinkedIn](https://www.linkedin.com/in/shivani-shimpi-5113a8170/)"
      ],
      "metadata": {
        "id": "X2x6KrNfAT0Y"
      }
    }
  ]
}