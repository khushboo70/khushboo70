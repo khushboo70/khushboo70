{
  "nbformat": 4,
  "nbformat_minor": 0,
  "metadata": {
    "colab": {
      "provenance": [],
      "toc_visible": true,
      "include_colab_link": true
    },
    "kernelspec": {
      "name": "python3",
      "display_name": "Python 3"
    },
    "language_info": {
      "name": "python"
    }
  },
  "cells": [
    {
      "cell_type": "markdown",
      "metadata": {
        "id": "view-in-github",
        "colab_type": "text"
      },
      "source": [
        "<a href=\"https://colab.research.google.com/github/khushboo70/khushboo70_Python_Basics/blob/main/03_Functions_and_strings.ipynb\" target=\"_parent\"><img src=\"https://colab.research.google.com/assets/colab-badge.svg\" alt=\"Open In Colab\"/></a>"
      ]
    },
    {
      "cell_type": "markdown",
      "source": [
        "# Functions and Strings in Python"
      ],
      "metadata": {
        "id": "naUgbbZP0FP-"
      }
    },
    {
      "cell_type": "markdown",
      "source": [
        "## Functions"
      ],
      "metadata": {
        "id": "yJF0riDtG7be"
      }
    },
    {
      "cell_type": "markdown",
      "source": [
        "### Introduction to Functions and Their Benefits\n",
        "\n",
        "**Explanation:** Functions in Python are blocks of reusable code that perform specific tasks. They offer several benefits, including code organization, reusability, and modularity. Functions make it easier to manage and maintain your code, and they enhance readability.\n"
      ],
      "metadata": {
        "id": "qkeaOi5VCs81"
      }
    },
    {
      "cell_type": "markdown",
      "source": [
        "### Defining Functions with Parameters and Return Values\n",
        "\n",
        "**Explanation:** Functions can take parameters (inputs) and return values (outputs). Parameters allow you to pass data to a function, and return values allow functions to provide results back to the calling code. This makes functions versatile and adaptable."
      ],
      "metadata": {
        "id": "iK8w0f-_FeE7"
      }
    },
    {
      "cell_type": "code",
      "source": [
        "def add_numbers(a, b):\n",
        "    result = a + b\n",
        "    return result"
      ],
      "metadata": {
        "id": "dwlU-I3d0baO"
      },
      "execution_count": null,
      "outputs": []
    },
    {
      "cell_type": "markdown",
      "source": [
        "### Function Scope and Local Variables\n",
        "\n",
        "**Explanation:** Variables defined inside a function are called local variables. They have a limited scope, meaning they are only accessible within that function. Understanding function scope is essential to prevent naming conflicts and manage variable lifetimes."
      ],
      "metadata": {
        "id": "xdeS7coZ2Zn2"
      }
    },
    {
      "cell_type": "code",
      "source": [
        "def my_function():\n",
        "    x = 10  # x is a local variable\n",
        "    print(x)\n",
        "\n",
        "my_function()\n",
        "print(x)  # This will result in an error"
      ],
      "metadata": {
        "colab": {
          "base_uri": "https://localhost:8080/",
          "height": 232
        },
        "id": "_moJPtQ72bex",
        "outputId": "df85a8f0-d598-4b26-8a5e-549d70d412a8"
      },
      "execution_count": null,
      "outputs": [
        {
          "output_type": "stream",
          "name": "stdout",
          "text": [
            "10\n"
          ]
        },
        {
          "output_type": "error",
          "ename": "NameError",
          "evalue": "ignored",
          "traceback": [
            "\u001b[0;31m---------------------------------------------------------------------------\u001b[0m",
            "\u001b[0;31mNameError\u001b[0m                                 Traceback (most recent call last)",
            "\u001b[0;32m<ipython-input-2-9ba264691590>\u001b[0m in \u001b[0;36m<cell line: 6>\u001b[0;34m()\u001b[0m\n\u001b[1;32m      4\u001b[0m \u001b[0;34m\u001b[0m\u001b[0m\n\u001b[1;32m      5\u001b[0m \u001b[0mmy_function\u001b[0m\u001b[0;34m(\u001b[0m\u001b[0;34m)\u001b[0m\u001b[0;34m\u001b[0m\u001b[0;34m\u001b[0m\u001b[0m\n\u001b[0;32m----> 6\u001b[0;31m \u001b[0mprint\u001b[0m\u001b[0;34m(\u001b[0m\u001b[0mx\u001b[0m\u001b[0;34m)\u001b[0m  \u001b[0;31m# This will result in an error\u001b[0m\u001b[0;34m\u001b[0m\u001b[0;34m\u001b[0m\u001b[0m\n\u001b[0m",
            "\u001b[0;31mNameError\u001b[0m: name 'x' is not defined"
          ]
        }
      ]
    },
    {
      "cell_type": "markdown",
      "source": [
        "### Importing Modules and Using Built-in Functions\n",
        "\n",
        "**Explanation:** Modules are Python files containing functions and variables that can be reused in other Python scripts. You can import modules and use their functions to avoid reinventing the wheel. Python also provides a rich set of built-in functions for common tasks."
      ],
      "metadata": {
        "id": "RqMLOlvQ2eai"
      }
    },
    {
      "cell_type": "code",
      "source": [
        "import math  # Importing the math module\n",
        "print(math.sqrt(25))  # Using a built-in function from the math module"
      ],
      "metadata": {
        "colab": {
          "base_uri": "https://localhost:8080/"
        },
        "id": "-nleKrak2X8p",
        "outputId": "0e75851d-c534-4539-a67e-b55fb6d77845"
      },
      "execution_count": null,
      "outputs": [
        {
          "output_type": "stream",
          "name": "stdout",
          "text": [
            "5.0\n"
          ]
        }
      ]
    },
    {
      "cell_type": "markdown",
      "source": [
        "### Creating Custom Modules and Reusing Code\n",
        "\n",
        "**Explanation:** You can create your custom Python modules by defining functions and variables in separate Python files. These modules can be reused across multiple projects, promoting code modularity and maintainability."
      ],
      "metadata": {
        "id": "KmgTCZ9fFzY-"
      }
    },
    {
      "cell_type": "code",
      "source": [
        "\"\"\"\n",
        " PERFORM THIS IN VS Code\n",
        "\"\"\"\n",
        "\n",
        "# # mymodule.py\n",
        "# def greet(name):\n",
        "#     return f\"Hello, {name}!\"\n",
        "\n",
        "# # main.py\n",
        "# import mymodule\n",
        "# print(mymodule.greet(\"Alice\"))"
      ],
      "metadata": {
        "colab": {
          "base_uri": "https://localhost:8080/",
          "height": 35
        },
        "id": "ceOJmsJaFxT4",
        "outputId": "3eecf9f2-7e86-49d2-9b2e-6a2eb0ff84be"
      },
      "execution_count": null,
      "outputs": [
        {
          "output_type": "execute_result",
          "data": {
            "text/plain": [
              "'\\n PERFORM THIS IN VSCOde\\n'"
            ],
            "application/vnd.google.colaboratory.intrinsic+json": {
              "type": "string"
            }
          },
          "metadata": {},
          "execution_count": 6
        }
      ]
    },
    {
      "cell_type": "markdown",
      "source": [
        "## Strings"
      ],
      "metadata": {
        "id": "_wvyTQqvG-D8"
      }
    },
    {
      "cell_type": "markdown",
      "source": [
        "### Introduction to indexing and slicing in Strings\n",
        "\n",
        "**Explanation:** In Python, strings are sequences of characters, and understanding how to access and manipulate individual characters or substrings within a string is essential. Two fundamental concepts for working with strings are indexing and slicing."
      ],
      "metadata": {
        "id": "pF3rKuklGMLJ"
      }
    },
    {
      "cell_type": "code",
      "source": [
        "# Indexing example\n",
        "text = \"Python\"\n",
        "first_character = text[0]  # Access the first character (\"P\")\n",
        "last_character = text[-1]  # Access the last character (\"n\")\n",
        "\n",
        "# Slicing example\n",
        "phrase = \"Hello, World!\"\n",
        "substring = phrase[0:5]  # Extract \"Hello\"\n",
        "reverse_phrase = phrase[::-1]  # Reverse the string (\"!dlroW ,olleH\")\n",
        "print(\n",
        "    substring,\n",
        "    reverse_phrase\n",
        ")"
      ],
      "metadata": {
        "colab": {
          "base_uri": "https://localhost:8080/"
        },
        "id": "L2F0RW-1FxSF",
        "outputId": "95542b1b-a0f8-4630-aaac-1d2b03c56f18"
      },
      "execution_count": null,
      "outputs": [
        {
          "output_type": "stream",
          "name": "stdout",
          "text": [
            "Hello !dlroW ,olleH\n"
          ]
        }
      ]
    },
    {
      "cell_type": "markdown",
      "source": [
        "### String Properties and Common String Methods\n",
        "\n",
        "**Explanation:** Strings are sequences of characters in Python. They have properties like length and indexing. Understanding these properties and using common string methods is essential for text manipulation."
      ],
      "metadata": {
        "id": "-9lg0aHSFxEP"
      }
    },
    {
      "cell_type": "code",
      "source": [
        "text = \"Hello, Python\"\n",
        "length = len(text)  # Getting the length of a string\n",
        "first_character = text[0]  # Accessing individual characters\n",
        "print(first_character)"
      ],
      "metadata": {
        "colab": {
          "base_uri": "https://localhost:8080/"
        },
        "id": "1Lj7VpZfGWOe",
        "outputId": "ff38add7-e1d4-4608-8817-af1251134ddb"
      },
      "execution_count": null,
      "outputs": [
        {
          "output_type": "stream",
          "name": "stdout",
          "text": [
            "H\n"
          ]
        }
      ]
    },
    {
      "cell_type": "markdown",
      "source": [
        "### Concatenating Strings and Formatting Them\n",
        "\n",
        "**Explanation:** Concatenation is the process of combining strings. You can use operators like `+` for concatenation. Additionally, Python offers string formatting techniques to create well-structured output."
      ],
      "metadata": {
        "id": "R4QeOmDzFw_n"
      }
    },
    {
      "cell_type": "code",
      "source": [
        "name = \"Alice\"\n",
        "greeting = \"Hello, \" + name + \"!\"\n",
        "formatted_greeting = f\"Hello, {name}!\"  # Using f-strings for formatting\n",
        "print(\n",
        "    name,\n",
        "    greeting,\n",
        "    formatted_greeting\n",
        ")"
      ],
      "metadata": {
        "colab": {
          "base_uri": "https://localhost:8080/"
        },
        "id": "cDhJqCR1GnUy",
        "outputId": "fd9b6aa0-56b1-4233-a507-425c662310ea"
      },
      "execution_count": null,
      "outputs": [
        {
          "output_type": "stream",
          "name": "stdout",
          "text": [
            "Alice Hello, Alice! Hello, Alice!\n"
          ]
        }
      ]
    },
    {
      "cell_type": "markdown",
      "source": [
        "### Using f-Strings for String Interpolation\n",
        "\n",
        "**Explanation:** F-strings (formatted string literals) provide a concise and readable way to embed expressions and variables within strings. They are powerful for string interpolation, making your code more readable and maintainable."
      ],
      "metadata": {
        "id": "uwBTS96yGm7A"
      }
    },
    {
      "cell_type": "code",
      "source": [
        "name = \"Alice\"\n",
        "age = 30\n",
        "message = f\"My name is {name} and I am {age} years old.\""
      ],
      "metadata": {
        "id": "h4spMyTnGxEv"
      },
      "execution_count": null,
      "outputs": []
    },
    {
      "cell_type": "markdown",
      "source": [
        "## String operations"
      ],
      "metadata": {
        "id": "enuIDwi8G0n1"
      }
    },
    {
      "cell_type": "markdown",
      "source": [
        "### String"
      ],
      "metadata": {
        "id": "hhKUCet1G47G"
      }
    },
    {
      "cell_type": "markdown",
      "source": [
        "### Performing Common String Operations: Splitting, Joining, Replacing\n",
        "\n",
        "**Explanation:** Strings offer various methods for common operations. You can split strings into lists, join lists into strings, and replace substrings with desired values.\n",
        "\n",
        "**Splitting a String into a List**\n",
        "\n",
        "- The `split()` method allows you to split a string into a list of substrings based on a specified delimiter.\n",
        "- This is particularly useful for parsing data separated by a common character, such as commas in CSV files.\n"
      ],
      "metadata": {
        "id": "6-DgV7jgHC9v"
      }
    },
    {
      "cell_type": "code",
      "source": [
        "text = \"apple,banana,orange\"\n",
        "fruits = text.split(\",\")  # Splitting a string into a list\n",
        "print(fruits)  # Output: ['apple', 'banana', 'orange']"
      ],
      "metadata": {
        "colab": {
          "base_uri": "https://localhost:8080/"
        },
        "id": "70K89FruHFRr",
        "outputId": "c987c3d6-8a81-4b35-cdc0-2168de20a9bb"
      },
      "execution_count": null,
      "outputs": [
        {
          "output_type": "stream",
          "name": "stdout",
          "text": [
            "['apple', 'banana', 'orange']\n"
          ]
        }
      ]
    },
    {
      "cell_type": "markdown",
      "source": [
        "**Joining a List into a String**\n",
        "\n",
        "- The `join()` method is used to concatenate the elements of a list into a single string, using a specified delimiter.\n",
        "- This operation is the reverse of splitting and is handy for creating formatted output or constructing data strings."
      ],
      "metadata": {
        "id": "cP5YbvYzHHBa"
      }
    },
    {
      "cell_type": "code",
      "source": [
        "fruits = ['apple', 'banana', 'orange']\n",
        "combined = \"-\".join(fruits)  # Joining a list into a string\n",
        "print(combined)  # Output: 'apple-banana-orange'"
      ],
      "metadata": {
        "colab": {
          "base_uri": "https://localhost:8080/"
        },
        "id": "I4-Hn9uuHPKv",
        "outputId": "5b441068-b898-4423-cdc2-73644129bc60"
      },
      "execution_count": null,
      "outputs": [
        {
          "output_type": "stream",
          "name": "stdout",
          "text": [
            "apple-banana-orange\n"
          ]
        }
      ]
    },
    {
      "cell_type": "markdown",
      "source": [
        "**Replacing Substrings in a String**\n",
        "\n",
        "- The `replace()` method allows you to replace occurrences of a substring with another value.\n",
        "- This operation is helpful for data cleaning, text transformation, or find-and-replace tasks."
      ],
      "metadata": {
        "id": "9oLUGrAVHTH3"
      }
    },
    {
      "cell_type": "code",
      "source": [
        "text = \"apple,banana,orange\"\n",
        "replaced = text.replace(\"banana\", \"grape\")  # Replacing substrings\n",
        "print(replaced)  # Output: 'apple,grape,orange'"
      ],
      "metadata": {
        "colab": {
          "base_uri": "https://localhost:8080/"
        },
        "id": "_S_MTkfbHR37",
        "outputId": "7c4f08d8-de33-4cc0-a384-653f17b9e434"
      },
      "execution_count": null,
      "outputs": [
        {
          "output_type": "stream",
          "name": "stdout",
          "text": [
            "apple,grape,orange\n"
          ]
        }
      ]
    },
    {
      "cell_type": "markdown",
      "source": [
        "This notebook was created for the coursework of Introduction to Python for [Skillcept Online](https://skillcept.online)\n",
        "\n",
        "> Date Created: September 12, 2023\n",
        ">\n",
        "> Author: [Shivani Shimpi](https://github.com/shivanishimpi)\n",
        ">\n",
        "> Reach out: [GitHub](https://github.com/shivanishimpi) | [LinkedIn](https://www.linkedin.com/in/shivani-shimpi-5113a8170/)"
      ],
      "metadata": {
        "id": "Vax_WV2lEvuV"
      }
    }
  ]
}