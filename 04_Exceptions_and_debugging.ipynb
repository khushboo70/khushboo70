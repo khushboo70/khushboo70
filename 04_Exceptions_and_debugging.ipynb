{
  "nbformat": 4,
  "nbformat_minor": 0,
  "metadata": {
    "colab": {
      "provenance": [],
      "toc_visible": true,
      "include_colab_link": true
    },
    "kernelspec": {
      "name": "python3",
      "display_name": "Python 3"
    },
    "language_info": {
      "name": "python"
    }
  },
  "cells": [
    {
      "cell_type": "markdown",
      "metadata": {
        "id": "view-in-github",
        "colab_type": "text"
      },
      "source": [
        "<a href=\"https://colab.research.google.com/github/khushboo70/khushboo70_Python_Basics/blob/main/04_Exceptions_and_debugging.ipynb\" target=\"_parent\"><img src=\"https://colab.research.google.com/assets/colab-badge.svg\" alt=\"Open In Colab\"/></a>"
      ]
    },
    {
      "cell_type": "markdown",
      "source": [
        "# Exceptions and Debugging"
      ],
      "metadata": {
        "id": "naUgbbZP0FP-"
      }
    },
    {
      "cell_type": "markdown",
      "source": [
        "### Understanding Exceptions and Errors\n",
        "\n",
        "**Explanation:** In Python, exceptions are unexpected or exceptional events that occur during the execution of a program, leading to the termination of normal code flow. Errors can be caused by various factors, such as invalid inputs, file not found, or division by zero. Understanding exceptions and errors is crucial for writing robust and reliable code"
      ],
      "metadata": {
        "id": "qkeaOi5VCs81"
      }
    },
    {
      "cell_type": "markdown",
      "source": [
        "### Using try, except, and finally Blocks\n",
        "\n",
        "**Explanation:** Python provides a mechanism to handle exceptions gracefully using `try`, `except`, and `finally` blocks:\n",
        "\n",
        "- `try`: It encloses the code that might raise an exception.\n",
        "- `except`: It defines how to handle exceptions when they occur.\n",
        "- `finally`: It specifies code that should run regardless of whether an exception occurred or not."
      ],
      "metadata": {
        "id": "iK8w0f-_FeE7"
      }
    },
    {
      "cell_type": "code",
      "source": [
        "try:\n",
        "    result = 10 / 0  # This will raise a ZeroDivisionError\n",
        "except ZeroDivisionError as e:\n",
        "    print(\"Error:\", e)\n",
        "finally:\n",
        "    print(\"This will always execute.\")"
      ],
      "metadata": {
        "id": "dwlU-I3d0baO",
        "colab": {
          "base_uri": "https://localhost:8080/"
        },
        "outputId": "d1a30e52-f52c-47a1-da5f-90ce0144d951"
      },
      "execution_count": null,
      "outputs": [
        {
          "output_type": "stream",
          "name": "stdout",
          "text": [
            "Error: division by zero\n",
            "This will always execute.\n"
          ]
        }
      ]
    },
    {
      "cell_type": "markdown",
      "source": [
        "### Handling Specific Exceptions and Multiple Exceptions\n",
        "\n",
        "**Explanation:** You can catch specific exceptions to provide tailored error messages or actions. Python allows handling multiple exceptions within a single `except` block using tuples or specifying multiple `except` blocks."
      ],
      "metadata": {
        "id": "xdeS7coZ2Zn2"
      }
    },
    {
      "cell_type": "code",
      "source": [
        "try:\n",
        "    value = int(\"hello\")  # This will raise a ValueError\n",
        "except (ValueError, TypeError) as e:\n",
        "    print(\"Error:\", e)"
      ],
      "metadata": {
        "colab": {
          "base_uri": "https://localhost:8080/"
        },
        "id": "_moJPtQ72bex",
        "outputId": "ff1c1f6f-3698-4563-c812-278a288cda77"
      },
      "execution_count": null,
      "outputs": [
        {
          "output_type": "stream",
          "name": "stdout",
          "text": [
            "Error: invalid literal for int() with base 10: 'hello'\n"
          ]
        }
      ]
    },
    {
      "cell_type": "markdown",
      "source": [
        "### Raising Custom Exceptions for Better Error Handling\n",
        "\n",
        "**Explanation:** You can create custom exceptions by defining new classes that inherit from the built-in `Exception` class. This allows you to raise specific exceptions with custom error messages, enhancing code clarity and error handling."
      ],
      "metadata": {
        "id": "RqMLOlvQ2eai"
      }
    },
    {
      "cell_type": "code",
      "source": [
        "class MyCustomError(Exception):\n",
        "    def __init__(self, message):\n",
        "        super().__init__(message)\n",
        "\n",
        "def my_function(x):\n",
        "    if x < 0:\n",
        "        raise MyCustomError(\"Input should be a positive number.\")\n",
        "\n",
        "try:\n",
        "    my_function(-5)\n",
        "except MyCustomError as e:\n",
        "    print(\"Custom Error:\", e)"
      ],
      "metadata": {
        "colab": {
          "base_uri": "https://localhost:8080/"
        },
        "id": "-nleKrak2X8p",
        "outputId": "8f37ab00-8ef7-4214-da34-5df46c745117"
      },
      "execution_count": null,
      "outputs": [
        {
          "output_type": "stream",
          "name": "stdout",
          "text": [
            "Custom Error: Input should be a positive number.\n"
          ]
        }
      ]
    },
    {
      "cell_type": "markdown",
      "source": [
        "### Debugging Techniques and Using Debugging Tools\n",
        "\n",
        "**Explanation:** Debugging is the process of identifying and resolving errors, exceptions, and unexpected behavior in your code. Python offers several debugging techniques and tools to assist in this process:\n",
        "\n",
        "- **Print Statements**: Adding print statements to display variable values and execution flow.\n",
        "- **Interactive Debuggers**: Using built-in debuggers like `pdb` for step-by-step debugging.\n",
        "- **IDE Debugging**: Utilizing integrated development environments (IDEs) with debugging features.\n",
        "- **Error Messages**: Analyzing error messages and stack traces to pinpoint issues."
      ],
      "metadata": {
        "id": "KmgTCZ9fFzY-"
      }
    },
    {
      "cell_type": "code",
      "source": [
        "def divide(a, b):\n",
        "    result = a / b\n",
        "    print(\"Result:\", result)\n",
        "    return result\n",
        "\n",
        "x = 10\n",
        "y = 0\n",
        "result = divide(x, y)  # This will raise a ZeroDivisionError"
      ],
      "metadata": {
        "colab": {
          "base_uri": "https://localhost:8080/",
          "height": 339
        },
        "id": "WDxNOUTuIgiR",
        "outputId": "375ffa2f-42e7-4861-ef19-4abcc86a746b"
      },
      "execution_count": null,
      "outputs": [
        {
          "output_type": "error",
          "ename": "ZeroDivisionError",
          "evalue": "ignored",
          "traceback": [
            "\u001b[0;31m---------------------------------------------------------------------------\u001b[0m",
            "\u001b[0;31mZeroDivisionError\u001b[0m                         Traceback (most recent call last)",
            "\u001b[0;32m<ipython-input-8-1770364b4671>\u001b[0m in \u001b[0;36m<cell line: 8>\u001b[0;34m()\u001b[0m\n\u001b[1;32m      6\u001b[0m \u001b[0mx\u001b[0m \u001b[0;34m=\u001b[0m \u001b[0;36m10\u001b[0m\u001b[0;34m\u001b[0m\u001b[0;34m\u001b[0m\u001b[0m\n\u001b[1;32m      7\u001b[0m \u001b[0my\u001b[0m \u001b[0;34m=\u001b[0m \u001b[0;36m0\u001b[0m\u001b[0;34m\u001b[0m\u001b[0;34m\u001b[0m\u001b[0m\n\u001b[0;32m----> 8\u001b[0;31m \u001b[0mresult\u001b[0m \u001b[0;34m=\u001b[0m \u001b[0mdivide\u001b[0m\u001b[0;34m(\u001b[0m\u001b[0mx\u001b[0m\u001b[0;34m,\u001b[0m \u001b[0my\u001b[0m\u001b[0;34m)\u001b[0m  \u001b[0;31m# This will raise a ZeroDivisionError\u001b[0m\u001b[0;34m\u001b[0m\u001b[0;34m\u001b[0m\u001b[0m\n\u001b[0m",
            "\u001b[0;32m<ipython-input-8-1770364b4671>\u001b[0m in \u001b[0;36mdivide\u001b[0;34m(a, b)\u001b[0m\n\u001b[1;32m      1\u001b[0m \u001b[0;32mdef\u001b[0m \u001b[0mdivide\u001b[0m\u001b[0;34m(\u001b[0m\u001b[0ma\u001b[0m\u001b[0;34m,\u001b[0m \u001b[0mb\u001b[0m\u001b[0;34m)\u001b[0m\u001b[0;34m:\u001b[0m\u001b[0;34m\u001b[0m\u001b[0;34m\u001b[0m\u001b[0m\n\u001b[0;32m----> 2\u001b[0;31m     \u001b[0mresult\u001b[0m \u001b[0;34m=\u001b[0m \u001b[0ma\u001b[0m \u001b[0;34m/\u001b[0m \u001b[0mb\u001b[0m\u001b[0;34m\u001b[0m\u001b[0;34m\u001b[0m\u001b[0m\n\u001b[0m\u001b[1;32m      3\u001b[0m     \u001b[0mprint\u001b[0m\u001b[0;34m(\u001b[0m\u001b[0;34m\"Result:\"\u001b[0m\u001b[0;34m,\u001b[0m \u001b[0mresult\u001b[0m\u001b[0;34m)\u001b[0m\u001b[0;34m\u001b[0m\u001b[0;34m\u001b[0m\u001b[0m\n\u001b[1;32m      4\u001b[0m     \u001b[0;32mreturn\u001b[0m \u001b[0mresult\u001b[0m\u001b[0;34m\u001b[0m\u001b[0;34m\u001b[0m\u001b[0m\n\u001b[1;32m      5\u001b[0m \u001b[0;34m\u001b[0m\u001b[0m\n",
            "\u001b[0;31mZeroDivisionError\u001b[0m: division by zero"
          ]
        }
      ]
    },
    {
      "cell_type": "markdown",
      "source": [
        "This notebook was created for the coursework of Introduction to Python for [Skillcept Online](https://skillcept.online)\n",
        "\n",
        "> Date Created: September 12, 2023\n",
        ">\n",
        "> Author: [Shivani Shimpi](https://github.com/shivanishimpi)\n",
        ">\n",
        "> Reach out: [GitHub](https://github.com/shivanishimpi) | [LinkedIn](https://www.linkedin.com/in/shivani-shimpi-5113a8170/)"
      ],
      "metadata": {
        "id": "Vax_WV2lEvuV"
      }
    }
  ]
}