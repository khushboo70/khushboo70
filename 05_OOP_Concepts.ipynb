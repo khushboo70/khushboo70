{
  "nbformat": 4,
  "nbformat_minor": 0,
  "metadata": {
    "colab": {
      "provenance": [],
      "toc_visible": true,
      "include_colab_link": true
    },
    "kernelspec": {
      "name": "python3",
      "display_name": "Python 3"
    },
    "language_info": {
      "name": "python"
    }
  },
  "cells": [
    {
      "cell_type": "markdown",
      "metadata": {
        "id": "view-in-github",
        "colab_type": "text"
      },
      "source": [
        "<a href=\"https://colab.research.google.com/github/khushboo70/khushboo70_Python_Basics/blob/main/05_OOP_Concepts.ipynb\" target=\"_parent\"><img src=\"https://colab.research.google.com/assets/colab-badge.svg\" alt=\"Open In Colab\"/></a>"
      ]
    },
    {
      "cell_type": "markdown",
      "source": [
        "# Object-Oriented Programming (OOP) Concepts"
      ],
      "metadata": {
        "id": "naUgbbZP0FP-"
      }
    },
    {
      "cell_type": "markdown",
      "source": [
        "### Introduction to OOP Concepts: Classes and Objects\n",
        "\n",
        "**Explanation:** Object-Oriented Programming (OOP) is a programming paradigm that uses objects and classes to model real-world entities and their interactions. In OOP, a class is a blueprint for creating objects, and objects are instances of classes. OOP allows you to organize your code in a more modular and structured way."
      ],
      "metadata": {
        "id": "qkeaOi5VCs81"
      }
    },
    {
      "cell_type": "markdown",
      "source": [
        "### Creating and Using Classes, Objects, and Instances\n",
        "\n",
        "**Explanation:** In Python, you can create classes using the `class` keyword. Once a class is defined, you can create objects (instances) of that class. Objects encapsulate both data (attributes) and behaviors (methods) related to a specific entity."
      ],
      "metadata": {
        "id": "iK8w0f-_FeE7"
      }
    },
    {
      "cell_type": "code",
      "source": [
        "class Dog:\n",
        "    def __init__(self, name):\n",
        "        self.name = name\n",
        "\n",
        "    def bark(self):\n",
        "        return f\"{self.name} says Woof!\"\n",
        "\n",
        "# Creating objects\n",
        "dog1 = Dog(\"Buddy\")\n",
        "dog2 = Dog(\"Max\")\n",
        "\n",
        "# Using objects and methods\n",
        "print(dog1.bark())  # Output: \"Buddy says Woof!\"\n",
        "print(dog2.bark())  # Output: \"Max says Woof!\""
      ],
      "metadata": {
        "id": "dwlU-I3d0baO",
        "colab": {
          "base_uri": "https://localhost:8080/"
        },
        "outputId": "1028dd8c-61b7-4a08-df72-a0352afaba9f"
      },
      "execution_count": null,
      "outputs": [
        {
          "output_type": "stream",
          "name": "stdout",
          "text": [
            "Buddy says Woof!\n",
            "Max says Woof!\n"
          ]
        }
      ]
    },
    {
      "cell_type": "markdown",
      "source": [
        "### Defining Class Attributes\n",
        "\n",
        "**Explanation:**\n",
        "\n",
        "Class attributes are variables that are shared by all instances (objects) of a class. They are defined within the class but outside of any methods. Class attributes hold data that is common to all instances of the class."
      ],
      "metadata": {
        "id": "xdeS7coZ2Zn2"
      }
    },
    {
      "cell_type": "code",
      "source": [
        "class Circle:\n",
        "    # Class attribute\n",
        "    pi = 3.14159"
      ],
      "metadata": {
        "id": "_moJPtQ72bex"
      },
      "execution_count": null,
      "outputs": []
    },
    {
      "cell_type": "markdown",
      "source": [
        "### Defining Class Methods\n",
        "\n",
        "**Explanation:**\n",
        "\n",
        "Class methods are methods that are bound to the class and not the instance. They are defined using the **`@classmethod`** decorator and often work with class-level data."
      ],
      "metadata": {
        "id": "RqMLOlvQ2eai"
      }
    },
    {
      "cell_type": "code",
      "source": [
        "class Dog:\n",
        "    count = 0  # Class attribute to count instances\n",
        "\n",
        "    def __init__(self, name):\n",
        "        self.name = name\n",
        "        Dog.count += 1\n",
        "\n",
        "    @classmethod\n",
        "    def total_dogs(cls):\n",
        "        return cls.count"
      ],
      "metadata": {
        "id": "-nleKrak2X8p"
      },
      "execution_count": null,
      "outputs": []
    },
    {
      "cell_type": "markdown",
      "source": [
        "### Defining Constructors\n",
        "\n",
        "**Explanation:**\n",
        "\n",
        "Constructors are special methods called when an object of a class is created. In Python, the constructor is **`__init__()`** and is used to initialize object attributes."
      ],
      "metadata": {
        "id": "KmgTCZ9fFzY-"
      }
    },
    {
      "cell_type": "code",
      "source": [
        "class Person:\n",
        "    def __init__(self, name, age):\n",
        "        self.name = name\n",
        "        self.age = age"
      ],
      "metadata": {
        "id": "WDxNOUTuIgiR"
      },
      "execution_count": null,
      "outputs": []
    },
    {
      "cell_type": "markdown",
      "source": [
        "### Using Decorators\n",
        "\n",
        "**Explanation:**\n",
        "\n",
        "Decorators are a powerful feature in Python, allowing you to modify the behavior of functions or methods. They are often used to enhance the functionality of class methods or functions. Some commonly used decorators include **`@classmethod`**, **`@staticmethod`**, and custom decorators."
      ],
      "metadata": {
        "id": "lLPn1cpWKJe9"
      }
    },
    {
      "cell_type": "code",
      "source": [
        "class MyClass:\n",
        "    class_attr = \"I'm a class attribute\"\n",
        "\n",
        "    @classmethod\n",
        "    def class_method(cls):\n",
        "        return cls.class_attr\n",
        "\n",
        "    @staticmethod\n",
        "    def static_method():\n",
        "        return \"I'm a static method\"\n",
        "\n",
        "    @property\n",
        "    def name(self):\n",
        "        return self._name\n",
        "\n",
        "    @name.setter\n",
        "    def name(self, value):\n",
        "        if value.isalpha():\n",
        "            self._name = value\n",
        "        else:\n",
        "            raise ValueError(\"Name must contain only letters.\")"
      ],
      "metadata": {
        "id": "TbflYDqJKLA3"
      },
      "execution_count": null,
      "outputs": []
    },
    {
      "cell_type": "markdown",
      "source": [
        "## Encapsulation, Inheritance, and Polymorphism Basics\n",
        "\n"
      ],
      "metadata": {
        "id": "9_vY1UVQKdTL"
      }
    },
    {
      "cell_type": "markdown",
      "source": [
        "### **Encapsulation**:\n",
        "\n",
        "It is the practice of hiding the internal implementation details of a class and exposing only what is necessary. This is achieved by using private and protected access modifiers (`private_var`, `_protected_var`) and getter and setter methods."
      ],
      "metadata": {
        "id": "bTjBJ81_KSC3"
      }
    },
    {
      "cell_type": "code",
      "source": [
        "class Person:\n",
        "    def __init__(self, name, age):\n",
        "        self._name = name  # Protected attribute\n",
        "        self.__age = age  # Private attribute\n",
        "\n",
        "    def display(self):\n",
        "        print(f\"Name: {self._name}, Age: {self.__age}\")\n",
        "\n",
        "    # Getter method for private attribute\n",
        "    def get_age(self):\n",
        "        return self.__age\n",
        "\n",
        "    # Setter method for private attribute\n",
        "    def set_age(self, age):\n",
        "        if age >= 0:\n",
        "            self.__age = age\n",
        "\n",
        "# Creating an object\n",
        "person = Person(\"Alice\", 30)\n",
        "\n",
        "# Accessing protected attribute\n",
        "print(person._name)  # Output: \"Alice\"\n",
        "\n",
        "# Accessing private attribute (name mangling)\n",
        "# Use getter and setter methods instead\n",
        "# print(person.__age)  # Raises an AttributeError\n",
        "\n",
        "# Using getter method to access private attribute\n",
        "print(person.get_age())  # Output: 30\n",
        "\n",
        "# Using setter method to modify private attribute\n",
        "person.set_age(31)\n",
        "print(person.get_age())  # Output: 31"
      ],
      "metadata": {
        "colab": {
          "base_uri": "https://localhost:8080/"
        },
        "id": "VccsslM7KTit",
        "outputId": "12a22370-760c-43b6-894d-4da9f260aa2d"
      },
      "execution_count": null,
      "outputs": [
        {
          "output_type": "stream",
          "name": "stdout",
          "text": [
            "Alice\n",
            "30\n",
            "31\n"
          ]
        }
      ]
    },
    {
      "cell_type": "markdown",
      "source": [
        "### **Inheritance:**\n",
        "\n",
        "Inheritance is a mechanism in which a new class (subclass or derived class) is created by inheriting properties and behaviors from an existing class (base class or parent class)."
      ],
      "metadata": {
        "id": "9Koh7TEdKVdn"
      }
    },
    {
      "cell_type": "code",
      "source": [
        "class Animal:\n",
        "    def __init__(self, name):\n",
        "        self.name = name\n",
        "\n",
        "    def speak(self):\n",
        "        pass  # Abstract method\n",
        "\n",
        "class Dog(Animal):\n",
        "    def speak(self):\n",
        "        return f\"{self.name} says Woof!\"\n",
        "\n",
        "class Cat(Animal):\n",
        "    def speak(self):\n",
        "        return f\"{self.name} says Meow!\"\n",
        "\n",
        "# Creating objects\n",
        "dog = Dog(\"Buddy\")\n",
        "cat = Cat(\"Whiskers\")\n",
        "\n",
        "# Calling overridden methods\n",
        "print(dog.speak())  # Output: \"Buddy says Woof!\"\n",
        "print(cat.speak())  # Output: \"Whiskers says Meow!\""
      ],
      "metadata": {
        "colab": {
          "base_uri": "https://localhost:8080/"
        },
        "id": "_zC8nQdbKXCo",
        "outputId": "87177ee2-1388-4b32-8497-dba8967dc8c7"
      },
      "execution_count": null,
      "outputs": [
        {
          "output_type": "stream",
          "name": "stdout",
          "text": [
            "Buddy says Woof!\n",
            "Whiskers says Meow!\n"
          ]
        }
      ]
    },
    {
      "cell_type": "markdown",
      "source": [
        "### **Polymorphism:**\n",
        "\n",
        "Polymorphism is the ability of different classes to be treated as instances of a common base class. It allows objects of different classes to be used interchangeably based on their common interface."
      ],
      "metadata": {
        "id": "lY_1jT4PKYzN"
      }
    },
    {
      "cell_type": "code",
      "source": [
        "class Shape:\n",
        "    def area(self):\n",
        "        pass  # Abstract method\n",
        "\n",
        "class Rectangle(Shape):\n",
        "    def __init__(self, width, height):\n",
        "        self.width = width\n",
        "        self.height = height\n",
        "\n",
        "    def area(self):\n",
        "        return self.width * self.height\n",
        "\n",
        "class Circle(Shape):\n",
        "    def __init__(self, radius):\n",
        "        self.radius = radius\n",
        "\n",
        "    def area(self):\n",
        "        return 3.14159 * self.radius ** 2\n",
        "\n",
        "# Polymorphic function\n",
        "def calculate_area(shape):\n",
        "    return shape.area()\n",
        "\n",
        "# Creating objects\n",
        "rectangle = Rectangle(5, 4)\n",
        "circle = Circle(3)\n",
        "\n",
        "# Calculating area using polymorphism\n",
        "print(f\"Rectangle Area: {calculate_area(rectangle)}\")  # Output: 20\n",
        "print(f\"Circle Area: {calculate_area(circle)}\")  # Output: 28.27431"
      ],
      "metadata": {
        "colab": {
          "base_uri": "https://localhost:8080/"
        },
        "id": "9_gEkFQVKh5L",
        "outputId": "f578d3f8-9f72-41b0-f084-7913bb19b61e"
      },
      "execution_count": null,
      "outputs": [
        {
          "output_type": "stream",
          "name": "stdout",
          "text": [
            "Rectangle Area: 20\n",
            "Circle Area: 28.27431\n"
          ]
        }
      ]
    },
    {
      "cell_type": "markdown",
      "source": [
        "This notebook was created for the coursework of Introduction to Python for [Skillcept Online](https://skillcept.online)\n",
        "\n",
        "> Date Created: September 12, 2023\n",
        ">\n",
        "> Author: [Shivani Shimpi](https://github.com/shivanishimpi)\n",
        ">\n",
        "> Reach out: [GitHub](https://github.com/shivanishimpi) | [LinkedIn](https://www.linkedin.com/in/shivani-shimpi-5113a8170/)"
      ],
      "metadata": {
        "id": "Vax_WV2lEvuV"
      }
    }
  ]
}